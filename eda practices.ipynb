{
 "cells": [
  {
   "cell_type": "code",
   "execution_count": null,
   "id": "10db88a4-f21c-43c2-bb1c-f71d67952a17",
   "metadata": {},
   "outputs": [],
   "source": [
    "# creating series\n",
    "\n",
    "- we can series different ways\n",
    "  - by using list\n",
    "  - empty series\n",
    "  - by using an array\n",
    "  - by accessing single column from dataframe"
   ]
  },
  {
   "cell_type": "code",
   "execution_count": 3,
   "id": "2c965a13-d1a5-4d83-8a76-d9bc1ebf3dee",
   "metadata": {},
   "outputs": [
    {
     "data": {
      "text/plain": [
       "0    1\n",
       "1    2\n",
       "2    3\n",
       "3    4\n",
       "4    5\n",
       "5    6\n",
       "dtype: int64"
      ]
     },
     "execution_count": 3,
     "metadata": {},
     "output_type": "execute_result"
    }
   ],
   "source": [
    "import pandas as pd\n",
    "number = [1,2,3,4,5,6]\n",
    "s = pd.Series(number)\n",
    "s\n"
   ]
  },
  {
   "cell_type": "code",
   "execution_count": 4,
   "id": "0505ed7b-5276-496c-b775-daa0d32a4caf",
   "metadata": {},
   "outputs": [
    {
     "data": {
      "text/plain": [
       "Series([], dtype: object)"
      ]
     },
     "execution_count": 4,
     "metadata": {},
     "output_type": "execute_result"
    }
   ],
   "source": [
    "series = pd.Series()\n",
    "series"
   ]
  },
  {
   "cell_type": "code",
   "execution_count": 9,
   "id": "749b0370-fa88-465e-a48a-071b6fef12dd",
   "metadata": {},
   "outputs": [],
   "source": [
    "import numpy as np"
   ]
  },
  {
   "cell_type": "code",
   "execution_count": 12,
   "id": "ccb04324-f6a2-4e79-a299-9400810d75af",
   "metadata": {},
   "outputs": [
    {
     "name": "stdout",
     "output_type": "stream",
     "text": [
      "0    1\n",
      "1    2\n",
      "2    3\n",
      "3    4\n",
      "4    5\n",
      "dtype: int32\n"
     ]
    }
   ],
   "source": [
    "import numpy as np\n",
    "n = [1,2,3,4,5]\n",
    "s = np.array(n)\n",
    "data = pd.Series(s)\n",
    "print(data)\n"
   ]
  },
  {
   "cell_type": "code",
   "execution_count": 14,
   "id": "3c77fe2a-f884-4388-b7a7-c45ba840ed5f",
   "metadata": {},
   "outputs": [
    {
     "name": "stdout",
     "output_type": "stream",
     "text": [
      "0    56\n",
      "1    45\n",
      "2    35\n",
      "3    41\n",
      "4    44\n",
      "5    60\n",
      "dtype: int64\n",
      "[56 45 35 41 44 60]\n"
     ]
    }
   ],
   "source": [
    "marks = [56, 45, 35, 41, 44, 60]\n",
    "s = pd.Series(marks)\n",
    "print(s)\n",
    "print(s.values)"
   ]
  },
  {
   "cell_type": "code",
   "execution_count": 15,
   "id": "c89f4713-ba56-44bd-b4bc-7779466c3722",
   "metadata": {},
   "outputs": [
    {
     "name": "stdout",
     "output_type": "stream",
     "text": [
      "count     6.000000\n",
      "mean     46.833333\n",
      "std       9.410986\n",
      "min      35.000000\n",
      "25%      41.750000\n",
      "50%      44.500000\n",
      "75%      53.250000\n",
      "max      60.000000\n",
      "dtype: float64\n"
     ]
    }
   ],
   "source": [
    "marks = [56, 45, 35, 41, 44, 60]\n",
    "print(s.describe())"
   ]
  },
  {
   "cell_type": "code",
   "execution_count": null,
   "id": "5468d151-0f11-4587-8ece-c5dc25402d90",
   "metadata": {},
   "outputs": [],
   "source": []
  }
 ],
 "metadata": {
  "kernelspec": {
   "display_name": "Python 3 (ipykernel)",
   "language": "python",
   "name": "python3"
  },
  "language_info": {
   "codemirror_mode": {
    "name": "ipython",
    "version": 3
   },
   "file_extension": ".py",
   "mimetype": "text/x-python",
   "name": "python",
   "nbconvert_exporter": "python",
   "pygments_lexer": "ipython3",
   "version": "3.11.7"
  }
 },
 "nbformat": 4,
 "nbformat_minor": 5
}
